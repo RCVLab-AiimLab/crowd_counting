{
 "cells": [
  {
   "cell_type": "code",
   "execution_count": 5,
   "metadata": {},
   "outputs": [
    {
     "name": "stdout",
     "output_type": "stream",
     "text": [
      "c:\\Users\\mahdi\\Desktop\n"
     ]
    }
   ],
   "source": [
    "import pathlib\n",
    "path = pathlib.Path().parent.absolute()\n",
    "print(path.parent)"
   ]
  }
 ],
 "metadata": {
  "interpreter": {
   "hash": "2d183efbc19dd65c31370a9cd06881223607a2d9a21b389fca78f9b8589c1169"
  },
  "kernelspec": {
   "display_name": "Python 3.9.10 64-bit (windows store)",
   "language": "python",
   "name": "python3"
  },
  "language_info": {
   "codemirror_mode": {
    "name": "ipython",
    "version": 3
   },
   "file_extension": ".py",
   "mimetype": "text/x-python",
   "name": "python",
   "nbconvert_exporter": "python",
   "pygments_lexer": "ipython3",
   "version": "3.9.10"
  },
  "orig_nbformat": 4
 },
 "nbformat": 4,
 "nbformat_minor": 2
}
