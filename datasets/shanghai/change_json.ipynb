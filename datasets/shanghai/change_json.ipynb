{
 "cells": [
  {
   "cell_type": "code",
   "execution_count": 2,
   "metadata": {},
   "outputs": [],
   "source": [
    "import json"
   ]
  },
  {
   "cell_type": "code",
   "execution_count": null,
   "metadata": {},
   "outputs": [],
   "source": [
    "with open(\"E:\\Research\\code\\crowd_counting\\datasets\\shanghai\\part_A_train.json\", 'r') as outfile:        \n",
    "    list_main = json.load(outfile)\n",
    "\n",
    "list = [st.replace('/home/leeyh/Downloads/Shanghai', 'E:\\Research\\code\\crowd_counting\\datasets\\shanghai') for st in list_main]\n"
   ]
  }
 ],
 "metadata": {
  "interpreter": {
   "hash": "c5b5aab702bd8c426d2d82c5bf9e88f70e5b1b4eca751606d716b46a87aed9b0"
  },
  "kernelspec": {
   "display_name": "Python 3.9.7 64-bit ('torch': conda)",
   "language": "python",
   "name": "python3"
  },
  "language_info": {
   "codemirror_mode": {
    "name": "ipython",
    "version": 3
   },
   "file_extension": ".py",
   "mimetype": "text/x-python",
   "name": "python",
   "nbconvert_exporter": "python",
   "pygments_lexer": "ipython3",
   "version": "3.9.7"
  },
  "orig_nbformat": 4
 },
 "nbformat": 4,
 "nbformat_minor": 2
}
